{
 "cells": [
  {
   "cell_type": "code",
   "execution_count": 1,
   "metadata": {},
   "outputs": [
    {
     "ename": "NameError",
     "evalue": "name 'territory_list' is not defined",
     "output_type": "error",
     "traceback": [
      "\u001b[0;31m---------------------------------------------------------------------------\u001b[0m",
      "\u001b[0;31mNameError\u001b[0m                                 Traceback (most recent call last)",
      "\u001b[0;32m<ipython-input-1-4ab56732dfae>\u001b[0m in \u001b[0;36m<module>\u001b[0;34m\u001b[0m\n\u001b[1;32m      2\u001b[0m \u001b[0;32mimport\u001b[0m \u001b[0mrandom\u001b[0m\u001b[0;34m\u001b[0m\u001b[0;34m\u001b[0m\u001b[0m\n\u001b[1;32m      3\u001b[0m \u001b[0;34m\u001b[0m\u001b[0m\n\u001b[0;32m----> 4\u001b[0;31m \u001b[0mplayer_1_random_list\u001b[0m \u001b[0;34m=\u001b[0m \u001b[0mrandom\u001b[0m\u001b[0;34m.\u001b[0m\u001b[0msample\u001b[0m\u001b[0;34m(\u001b[0m\u001b[0mterritory_list\u001b[0m\u001b[0;34m,\u001b[0m\u001b[0;36m9\u001b[0m\u001b[0;34m)\u001b[0m\u001b[0;34m\u001b[0m\u001b[0;34m\u001b[0m\u001b[0m\n\u001b[0m\u001b[1;32m      5\u001b[0m \u001b[0mplayer_2_random_list\u001b[0m \u001b[0;34m=\u001b[0m \u001b[0mterritory_list\u001b[0m\u001b[0;34m.\u001b[0m\u001b[0mremove\u001b[0m\u001b[0;34m(\u001b[0m\u001b[0mplayer_1_random_list\u001b[0m\u001b[0;34m)\u001b[0m\u001b[0;34m\u001b[0m\u001b[0;34m\u001b[0m\u001b[0m\n\u001b[1;32m      6\u001b[0m \u001b[0mcomputer_random_list\u001b[0m \u001b[0;34m=\u001b[0m \u001b[0mterritory_list\u001b[0m\u001b[0;34m.\u001b[0m\u001b[0mremove\u001b[0m\u001b[0;34m(\u001b[0m\u001b[0mplayer_1_random_list\u001b[0m\u001b[0;34m)\u001b[0m\u001b[0;34m\u001b[0m\u001b[0;34m\u001b[0m\u001b[0m\n",
      "\u001b[0;31mNameError\u001b[0m: name 'territory_list' is not defined"
     ]
    }
   ],
   "source": [
    "#List that includes all names of territories\n",
    "import random \n",
    "\n",
    "player_1_random_list = random.sample(territory_list,9)\n",
    "player_2_random_list = territory_list.remove(player_1_random_list)\n",
    "computer_random_list = territory_list.remove(player_1_random_list)\n",
    "\n",
    "player_1[territory]:player_1_random_list\n",
    "player_2[territory]:player_2_random_list\n",
    "computer[territory]:computer_random_list\n",
    "\n",
    "for i in player_1_random_list:\n",
    "    while count != 20:\n",
    "        print(f'Player 1, how many infantry do you want to assign to {i} ?')\n",
    "        player_1[territory[i]]:int(input())\n",
    "        count+=1\n",
    "        print(f'you have {player_1[infantry] - count} infantry left')\n",
    "        if count == player_1[infantry]:\n",
    "            print('No more infantry left')\n",
    "            \n",
    "for i in player_2_random_list:\n",
    "    print(f'Player 2, how many infantry do you want to assign to {i} ?')\n",
    "    player_1[territory[i]]:int(input())\n",
    "        "
   ]
  },
  {
   "cell_type": "code",
   "execution_count": null,
   "metadata": {},
   "outputs": [],
   "source": [
    "#List that includes all names of territories\n",
    "import random \n",
    "\n",
    "def random_dist(dict_glob, player_dict_1, player_list_2)\n",
    "player_dict_1['Territory'] : random.sample(dict_global['territory_list'],9)\n",
    "player_dict_2['Territory'] : dict_global['territory_list'].remove(player_dict_1['Territory'])\n",
    "computer_random['Territory'] : dict_global['territory_list'].remove(player_dict_1['Territory'])\n",
    "\n",
    "\n",
    "\n",
    "def infintry_alloc(numb,player_list_1):\n",
    "    for i in player_1_random_list:\n",
    "        while count != 20:\n",
    "            print(f'Player {numb}, how many infantry do you want to assign to {i} ?')\n",
    "            player_1[territory[i]]:int(input())\n",
    "            count+=1\n",
    "            print(f'you have {player_1[infantry] - count} infantry left')\n",
    "            if count == player_1[infantry]:\n",
    "                print('No more infantry left')"
   ]
  }
 ],
 "metadata": {
  "kernelspec": {
   "display_name": "Python 3",
   "language": "python",
   "name": "python3"
  },
  "language_info": {
   "codemirror_mode": {
    "name": "ipython",
    "version": 3
   },
   "file_extension": ".py",
   "mimetype": "text/x-python",
   "name": "python",
   "nbconvert_exporter": "python",
   "pygments_lexer": "ipython3",
   "version": "3.7.6"
  }
 },
 "nbformat": 4,
 "nbformat_minor": 4
}
