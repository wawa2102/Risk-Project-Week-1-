{
 "cells": [
  {
   "cell_type": "code",
   "execution_count": 3,
   "metadata": {},
   "outputs": [
    {
     "data": {
      "text/plain": [
       "\"player_1 = input('What will be your player name ? ')\\ncomputer_name = input('What will be the computer name ? ')\\n    \\nprint('The names of the players are :',player_1,'for you and',computer_name,'for the computer ! Good luck !')\""
      ]
     },
     "execution_count": 3,
     "metadata": {},
     "output_type": "execute_result"
    }
   ],
   "source": [
    "\"\"\"player_1 = input('What will be your player name ? ')\n",
    "computer_name = input('What will be the computer name ? ')\n",
    "    \n",
    "print('The names of the players are :',player_1,'for you and',computer_name,'for the computer ! Good luck !')\"\"\""
   ]
  },
  {
   "cell_type": "code",
   "execution_count": 4,
   "metadata": {},
   "outputs": [],
   "source": [
    "dict_bounderies = {'Asia': ['China', 'India', 'Cyberia'],\n",
    "'North_America': ['Canada', 'United_Stated', 'Mexico'],\n",
    "'South_America': ['Brazil', 'Peru', 'Argentina'],\n",
    "'Europe': ['Western_Europe', 'Eastern_Europe', 'North_Europe'],\n",
    "'Africa': ['North_Africa', 'Western_Africa', 'South_Africa'],\n",
    "'Oceana': ['Australia', 'New_Zealand', 'Indonesia'],'China': ['India','Cyberia','Australia'],\n",
    "'India': ['China','Cyberia','Eastern_Europe'],\n",
    "'Cyberia': ['China','India','Canada'],\n",
    "'Canada': ['United_Stated','Cyberia','Western_Europe'],\n",
    "'United_Stated': ['Canada','Mexico'],\n",
    "'Mexico': ['United_Stated','Peru'],\n",
    "'Peru': ['Mexico','Brazil','Argentina'],\n",
    "'Argentina': ['Peru','Brazil'],\n",
    "'Brazil': ['Peru','Argentina','Western_Africa'],\n",
    "'Western_Europe': ['Eastern_Europe','North_Europe','Canada','North_Africa'],\n",
    "'Eastern_Europe': ['Western_Europe','North_Europe','Cyberia','India','North_Africa'],\n",
    "'North_Europe': ['Western_Europe','Cyberia','Eastern_Europe'],\n",
    "'North_Africa': ['Eastern_Europe','Western_Europe','India'],\n",
    "'Western_Africa': ['North_Africa','South_Africa'],\n",
    "'South_Africa': ['Western_Africa','North_Africa','India'],\n",
    "'Australia': ['New_Zealand','Indonesia'],\n",
    "'New_Zealand': ['Indonesia','Australia'],\n",
    "'Indonesia': ['New_Zealand','Australia','China','India']}\n",
    "\n",
    "list_territories = ['India','Cyberia','Australia','Canada', 'United_Stated', 'Mexico','Brazil', 'Peru', 'Argentina','Western_Europe', 'Eastern_Europe', 'North_Europe','North_Africa', 'Western_Africa', 'South_Africa','Australia', 'New_Zealand', 'Indonesia']\n",
    "\n"
   ]
  },
  {
   "cell_type": "code",
   "execution_count": 5,
   "metadata": {},
   "outputs": [
    {
     "ename": "SyntaxError",
     "evalue": "invalid syntax (<ipython-input-5-62249dc5b92e>, line 4)",
     "output_type": "error",
     "traceback": [
      "\u001b[0;36m  File \u001b[0;32m\"<ipython-input-5-62249dc5b92e>\"\u001b[0;36m, line \u001b[0;32m4\u001b[0m\n\u001b[0;31m    def random_dist(dict_glob, player_dict_1, player_list_2)\u001b[0m\n\u001b[0m                                                            ^\u001b[0m\n\u001b[0;31mSyntaxError\u001b[0m\u001b[0;31m:\u001b[0m invalid syntax\n"
     ]
    }
   ],
   "source": [
    "#List that includes all names of territories\n",
    "import random \n",
    "\n",
    "def random_dist(dict_glob, player_dict_1, player_list_2)\n",
    "player_dict_1['Territory'] : random.sample(dict_global['territory_list'],9)\n",
    "player_dict_2['Territory'] : dict_global['territory_list'].remove(player_dict_1['Territory'])\n",
    "computer_random['Territory'] : dict_global['territory_list'].remove(player_dict_1['Territory'])\n",
    "\n",
    "\n",
    "\n",
    "def infintry_alloc(numb,player_list_1):\n",
    "    for i in player_1_random_list:\n",
    "        while count != 20:\n",
    "            print(f'Player {numb}, how many infantry do you want to assign to {i} ?')\n",
    "            player_1[territory[i]]:int(input())\n",
    "            count+=1\n",
    "            print(f'you have {player_1[infantry] - count} infantry left')\n",
    "            if count == player_1[infantry]:\n",
    "                print('No more infantry left')"
   ]
  },
  {
   "cell_type": "code",
   "execution_count": 6,
   "metadata": {},
   "outputs": [
    {
     "name": "stdout",
     "output_type": "stream",
     "text": [
      "11\n"
     ]
    }
   ],
   "source": [
    "import math\n",
    "\n",
    "nb_of_territories = 5\n",
    "\n",
    "def receiving_additional_infantry(nb_of_rounds,player,continent_bonus,cards_bonus):\n",
    "    \n",
    "    if nb_of_rounds < 2:\n",
    "        \n",
    "        return 0\n",
    "    \n",
    "    else : \n",
    "        if nb_of_territories >= 3:\n",
    "            \n",
    "            if continent_bonus > 0 and cards_bonus == 0:\n",
    "                \n",
    "                return 3 + math.trunc(nb_of_territories/3) + continent_bonus * 3\n",
    "                \n",
    "            elif continent_bonus > 0 and cards_bonus > 0:\n",
    "                \n",
    "                return 3 + math.trunc(nb_of_territories/3) + continent_bonus * 3 + cards_bonus * 1\n",
    "            \n",
    "            elif continent_bonus == 0 and cards_bonus > 0:\n",
    "                \n",
    "                return 3 + math.trunc(nb_of_territories/3) + cards_bonus * 1\n",
    "                \n",
    "            else : \n",
    "                return 3 + math.trunc(nb_of_territories/3)\n",
    "        \n",
    "        else :\n",
    "            \n",
    "            return 3\n",
    "\n",
    "total_additional_infantry = receiving_additional_infantry(2,\"Wawa\",2,1)\n",
    "\n",
    "print(total_additional_infantry)\n"
   ]
  },
  {
   "cell_type": "code",
   "execution_count": null,
   "metadata": {},
   "outputs": [
    {
     "name": "stdout",
     "output_type": "stream",
     "text": [
      "['Brazil', 'Perou']\n",
      "How many armies for this territory : Brazil=> (Max avalaible :11)2\n",
      "[2]\n",
      "How many armies for this territory : Perou=> (Max avalaible :9)3\n",
      "[2, 3]\n",
      "You need to place all your armies !\n",
      "How many armies for this territory : Brazil=> (Max avalaible :11)10\n",
      "[2, 3, 10]\n"
     ]
    }
   ],
   "source": [
    "dct_player_1 = [\"Infantry\", 20,\"Territories\", {\"Brazil\":2, \"Perou\": 5}, \"Cards\", 0]\n",
    "\n",
    "def allocating_additional_infantry(max_infantry_allocation):\n",
    "    \n",
    "    max_infantry_to_allocate = max_infantry_allocation \n",
    "    lst = []\n",
    "    var = []\n",
    "    for i in dct_player_1[3]:\n",
    "        var.append(i)\n",
    "    print(var)\n",
    "    \n",
    "    while max_infantry_to_allocate > 0:\n",
    "        max_infantry_to_allocate = max_infantry_allocation\n",
    "        for j in range(len(var)):\n",
    "            x = int(input(\"How many armies for this territory : \"+var[j]+\"=> (Max avalaible :\"+ str(max_infantry_to_allocate)+\")\"))\n",
    "            lst.append(x)\n",
    "            max_infantry_to_allocate = max_infantry_to_allocate-lst[j]\n",
    "            print(lst)\n",
    "        print(\"You need to place all your armies !\")\n",
    "    \n",
    "print(allocating_additional_infantry(total_additional_infantry))"
   ]
  },
  {
   "cell_type": "code",
   "execution_count": null,
   "metadata": {},
   "outputs": [],
   "source": []
  },
  {
   "cell_type": "code",
   "execution_count": null,
   "metadata": {},
   "outputs": [],
   "source": []
  }
 ],
 "metadata": {
  "kernelspec": {
   "display_name": "Python 3",
   "language": "python",
   "name": "python3"
  },
  "language_info": {
   "codemirror_mode": {
    "name": "ipython",
    "version": 3
   },
   "file_extension": ".py",
   "mimetype": "text/x-python",
   "name": "python",
   "nbconvert_exporter": "python",
   "pygments_lexer": "ipython3",
   "version": "3.7.6"
  }
 },
 "nbformat": 4,
 "nbformat_minor": 4
}
