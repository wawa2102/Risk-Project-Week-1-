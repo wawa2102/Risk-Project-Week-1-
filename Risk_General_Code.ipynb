{
 "cells": [
  {
   "cell_type": "code",
   "execution_count": 9,
   "metadata": {},
   "outputs": [
    {
     "name": "stdout",
     "output_type": "stream",
     "text": [
      "What will be your player name ? Wawa\n",
      "What will be the computer name ? Covid\n",
      "The names of the players are : Wawa for you and Covid for the computer ! Good luck !\n"
     ]
    }
   ],
   "source": [
    "player_1 = input('What will be your player name ? ')\n",
    "computer_name = input('What will be the computer name ? ')\n",
    "    \n",
    "print('The names of the players are :',player_1,'for you and',computer_name,'for the computer ! Good luck !')"
   ]
  },
  {
   "cell_type": "code",
   "execution_count": null,
   "metadata": {},
   "outputs": [],
   "source": []
  }
 ],
 "metadata": {
  "kernelspec": {
   "display_name": "Python 3",
   "language": "python",
   "name": "python3"
  },
  "language_info": {
   "codemirror_mode": {
    "name": "ipython",
    "version": 3
   },
   "file_extension": ".py",
   "mimetype": "text/x-python",
   "name": "python",
   "nbconvert_exporter": "python",
   "pygments_lexer": "ipython3",
   "version": "3.7.6"
  }
 },
 "nbformat": 4,
 "nbformat_minor": 4
}
