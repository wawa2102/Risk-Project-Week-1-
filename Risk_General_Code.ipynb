{
 "cells": [
  {
   "cell_type": "code",
   "execution_count": 1,
   "metadata": {},
   "outputs": [
    {
     "name": "stdout",
     "output_type": "stream",
     "text": [
      "What will be your player name ? \n",
      "What will be the computer name ? \n",
      "The names of the players are :  for you and  for the computer ! Good luck !\n"
     ]
    }
   ],
   "source": [
    "player_1 = input('What will be your player name ? ')\n",
    "computer_name = input('What will be the computer name ? ')\n",
    "    \n",
    "print('The names of the players are :',player_1,'for you and',computer_name,'for the computer ! Good luck !')"
   ]
  },
  {
   "cell_type": "code",
   "execution_count": 11,
   "metadata": {},
   "outputs": [
    {
     "name": "stdout",
     "output_type": "stream",
     "text": [
      "11\n",
      "{'Infantry': 20, 'Territories': {'Brazil': 2, 'Perou': 5}, 'Cards': 0}\n"
     ]
    }
   ],
   "source": [
    "import math\n",
    "\n",
    "nb_of_territories = 5\n",
    "\n",
    "def receiving_additional_infantry(nb_of_rounds,player,continent_bonus,cards_bonus):\n",
    "    \n",
    "    if nb_of_rounds < 2:\n",
    "        \n",
    "        return 0\n",
    "    \n",
    "    else : \n",
    "        if nb_of_territories >= 3:\n",
    "            \n",
    "            if continent_bonus > 0 and cards_bonus == 0:\n",
    "                \n",
    "                return 3 + math.trunc(nb_of_territories/3) + continent_bonus * 3\n",
    "                \n",
    "            elif continent_bonus > 0 and cards_bonus > 0:\n",
    "                \n",
    "                return 3 + math.trunc(nb_of_territories/3) + continent_bonus * 3 + cards_bonus * 1\n",
    "            \n",
    "            elif continent_bonus == 0 and cards_bonus > 0:\n",
    "                \n",
    "                return 3 + math.trunc(nb_of_territories/3) + cards_bonus * 1\n",
    "                \n",
    "            else : \n",
    "                return 3 + math.trunc(nb_of_territories/3)\n",
    "        \n",
    "        else :\n",
    "            \n",
    "            return 3\n",
    "\n",
    "total_additional_infantry = receiving_additional_infantry(2,\"Wawa\",2,1)\n",
    "\n",
    "print(total_additional_infantry)\n"
   ]
  },
  {
   "cell_type": "code",
   "execution_count": null,
   "metadata": {},
   "outputs": [
    {
     "name": "stdout",
     "output_type": "stream",
     "text": [
      "['Brazil', 'Perou']\n",
      "How many armies for this territory : Brazil=> (Max avalaible :11)3\n",
      "[3]\n",
      "How many armies for this territory : Perou=> (Max avalaible :8)2\n",
      "[3, 2]\n",
      "You need to place all your armies !\n",
      "How many armies for this territory : Brazil=> (Max avalaible :11)3\n",
      "[3, 2, 3]\n",
      "How many armies for this territory : Perou=> (Max avalaible :8)1\n",
      "[3, 2, 3, 1]\n",
      "You need to place all your armies !\n",
      "How many armies for this territory : Brazil=> (Max avalaible :11)10\n",
      "[3, 2, 3, 1, 10]\n",
      "How many armies for this territory : Perou=> (Max avalaible :8)1\n",
      "[3, 2, 3, 1, 10, 1]\n",
      "You need to place all your armies !\n",
      "How many armies for this territory : Brazil=> (Max avalaible :11)6\n",
      "[3, 2, 3, 1, 10, 1, 6]\n",
      "How many armies for this territory : Perou=> (Max avalaible :8)8\n",
      "[3, 2, 3, 1, 10, 1, 6, 8]\n",
      "You need to place all your armies !\n",
      "How many armies for this territory : Brazil=> (Max avalaible :11)11\n",
      "[3, 2, 3, 1, 10, 1, 6, 8, 11]\n"
     ]
    }
   ],
   "source": [
    "dct_player_1 = [\"Infantry\", 20,\"Territories\", {\"Brazil\":2, \"Perou\": 5}, \"Cards\", 0]\n",
    "\n",
    "def allocating_additional_infantry(max_infantry_allocation):\n",
    "    \n",
    "    max_infantry_to_allocate = max_infantry_allocation \n",
    "    lst = []\n",
    "    var = []\n",
    "    for i in dct_player_1[3]:\n",
    "        var.append(i)\n",
    "    print(var)\n",
    "    \n",
    "    while max_infantry_to_allocate > 0:\n",
    "        max_infantry_to_allocate = max_infantry_allocation\n",
    "        for j in range(len(var)):\n",
    "            x = int(input(\"How many armies for this territory : \"+var[j]+\"=> (Max avalaible :\"+ str(max_infantry_to_allocate)+\")\"))\n",
    "            lst.append(x)\n",
    "            max_infantry_to_allocate = max_infantry_to_allocate-lst[j]\n",
    "            print(lst)\n",
    "        print(\"You need to place all your armies !\")\n",
    "    \n",
    "print(allocating_additional_infantry(total_additional_infantry))"
   ]
  },
  {
   "cell_type": "code",
   "execution_count": null,
   "metadata": {},
   "outputs": [],
   "source": []
  },
  {
   "cell_type": "code",
   "execution_count": null,
   "metadata": {},
   "outputs": [],
   "source": []
  }
 ],
 "metadata": {
  "kernelspec": {
   "display_name": "Python 3",
   "language": "python",
   "name": "python3"
  },
  "language_info": {
   "codemirror_mode": {
    "name": "ipython",
    "version": 3
   },
   "file_extension": ".py",
   "mimetype": "text/x-python",
   "name": "python",
   "nbconvert_exporter": "python",
   "pygments_lexer": "ipython3",
   "version": "3.7.6"
  }
 },
 "nbformat": 4,
 "nbformat_minor": 4
}
