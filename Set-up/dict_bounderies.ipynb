{
 "cells": [
  {
   "cell_type": "code",
   "execution_count": 2,
   "metadata": {},
   "outputs": [
    {
     "ename": "SyntaxError",
     "evalue": "invalid syntax (<ipython-input-2-28b4402b1b4b>, line 1)",
     "output_type": "error",
     "traceback": [
      "\u001b[0;36m  File \u001b[0;32m\"<ipython-input-2-28b4402b1b4b>\"\u001b[0;36m, line \u001b[0;32m1\u001b[0m\n\u001b[0;31m    Identifying the continents and the territories within each continent\u001b[0m\n\u001b[0m                  ^\u001b[0m\n\u001b[0;31mSyntaxError\u001b[0m\u001b[0;31m:\u001b[0m invalid syntax\n"
     ]
    }
   ],
   "source": [
    "\"\"\"Continent and territories dictionary: dict_bounderies ={}\n",
    "Continents:\n",
    "'Asia': ['China', 'India', 'Cyberia'],\n",
    "'North_America': ['Canada', 'United_Stated', 'Mexico'],\n",
    "'South_America': ['Brazil', 'Peru', 'Argentina'],\n",
    "'Europe': ['Western_Europe', 'Eastern_Europe', 'North_Europe'],\n",
    "'Africa': ['North_Africa', 'Western_Africa', 'South_Africa'],\n",
    "'Oceana': ['Australia', 'New_Zealand', 'Indonesia']\n",
    "\n",
    "Territories:\n",
    "'China': ['India','Cyberia','Australia'],\n",
    "'India': ['China','Cyberia','Eastern_Europe'],\n",
    "'Cyberia': ['China','India','Canada'],\n",
    "'Canada': ['United_Stated','Cyberia','Western_Europe'],\n",
    "'United_Stated': ['Canada','Mexico'],\n",
    "'Mexico': ['United_Stated','Peru'],\n",
    "'Peru': ['Mexico','Brazil','Argentina'],\n",
    "'Argentina': ['Peru','Brazil'],\n",
    "'Brazil': ['Peru','Argentina','Western_Africa'],\n",
    "'Western_Europe': ['Eastern_Europe','North_Europe','Canada','North_Africa'],\n",
    "'Eastern_Europe': ['Western_Europe','North_Europe','Cyberia','India','North_Africa'],\n",
    "'North_Europe': ['Western_Europe','Cyberia','Eastern_Europe'],\n",
    "'North_Africa': ['Eastern_Europe','Western_Europe','India'],\n",
    "'Western_Africa': ['North_Africa','South_Africa'],\n",
    "'South_Africa': ['Western_Africa','North_Africa','India'],\n",
    "'Australia': ['New_Zealand','Indonesia'],\n",
    "'New_Zealand': ['Indonesia','Australia'],\n",
    "'Indonesia': ['New_Zealand','Australia','China','India']\n",
    "\n",
    "\n",
    "\n",
    "\"\"\""
   ]
  },
  {
   "cell_type": "code",
   "execution_count": 4,
   "metadata": {},
   "outputs": [],
   "source": [
    "dict_bounderies = {'Asia': ['China', 'India', 'Cyberia'],\n",
    "'North_America': ['Canada', 'United_Stated', 'Mexico'],\n",
    "'South_America': ['Brazil', 'Peru', 'Argentina'],\n",
    "'Europe': ['Western_Europe', 'Eastern_Europe', 'North_Europe'],\n",
    "'Africa': ['North_Africa', 'Western_Africa', 'South_Africa'],\n",
    "'Oceana': ['Australia', 'New_Zealand', 'Indonesia'],'China': ['India','Cyberia','Australia'],\n",
    "'India': ['China','Cyberia','Eastern_Europe'],\n",
    "'Cyberia': ['China','India','Canada'],\n",
    "'Canada': ['United_Stated','Cyberia','Western_Europe'],\n",
    "'United_Stated': ['Canada','Mexico'],\n",
    "'Mexico': ['United_Stated','Peru'],\n",
    "'Peru': ['Mexico','Brazil','Argentina'],\n",
    "'Argentina': ['Peru','Brazil'],\n",
    "'Brazil': ['Peru','Argentina','Western_Africa'],\n",
    "'Western_Europe': ['Eastern_Europe','North_Europe','Canada','North_Africa'],\n",
    "'Eastern_Europe': ['Western_Europe','North_Europe','Cyberia','India','North_Africa'],\n",
    "'North_Europe': ['Western_Europe','Cyberia','Eastern_Europe'],\n",
    "'North_Africa': ['Eastern_Europe','Western_Europe','India'],\n",
    "'Western_Africa': ['North_Africa','South_Africa'],\n",
    "'South_Africa': ['Western_Africa','North_Africa','India'],\n",
    "'Australia': ['New_Zealand','Indonesia'],\n",
    "'New_Zealand': ['Indonesia','Australia'],\n",
    "'Indonesia': ['New_Zealand','Australia','China','India']}"
   ]
  },
  {
   "cell_type": "code",
   "execution_count": null,
   "metadata": {},
   "outputs": [],
   "source": [
    "list_territories = ['India','Cyberia','Australia','Canada', 'United_Stated', 'Mexico','Brazil', 'Peru', 'Argentina','Western_Europe', 'Eastern_Europe', 'North_Europe','North_Africa', 'Western_Africa', 'South_Africa','Australia', 'New_Zealand', 'Indonesia']"
   ]
  }
 ],
 "metadata": {
  "kernelspec": {
   "display_name": "Python 3",
   "language": "python",
   "name": "python3"
  },
  "language_info": {
   "codemirror_mode": {
    "name": "ipython",
    "version": 3
   },
   "file_extension": ".py",
   "mimetype": "text/x-python",
   "name": "python",
   "nbconvert_exporter": "python",
   "pygments_lexer": "ipython3",
   "version": "3.7.4"
  }
 },
 "nbformat": 4,
 "nbformat_minor": 2
}
